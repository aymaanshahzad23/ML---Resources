{
 "cells": [
  {
   "cell_type": "markdown",
   "metadata": {},
   "source": [
    "# Unsupervised Learning\n",
    "-----\n",
    "<p>Unsupervised is similar to supervised learning but we don't have output labels y</p>\n",
    "\n",
    "<br>\n",
    "So there is nothing to predict, just we find something interesting about the data (like structure)\n",
    "\n",
    "-----\n",
    "<!-- ## K Means Clustering -->\n",
    "## Clustering\n",
    "Find something  interesting about structure\n",
    "\n"
   ]
  }
 ],
 "metadata": {
  "language_info": {
   "name": "python"
  }
 },
 "nbformat": 4,
 "nbformat_minor": 2
}
